{
 "cells": [
  {
   "cell_type": "markdown",
   "metadata": {},
   "source": [
    "# HH3 Left To Right\n"
   ]
  },
  {
   "cell_type": "markdown",
   "metadata": {},
   "source": [
    "# Setup"
   ]
  },
  {
   "cell_type": "code",
   "execution_count": 1,
   "metadata": {},
   "outputs": [
    {
     "name": "stdout",
     "output_type": "stream",
     "text": [
      "Requirement already satisfied: saxpy in /Users/reverie/opt/anaconda3/lib/python3.8/site-packages (1.0.1.dev167)\n",
      "Requirement already satisfied: numpy in /Users/reverie/opt/anaconda3/lib/python3.8/site-packages (from saxpy) (1.19.2)\n",
      "Requirement already satisfied: codecov in /Users/reverie/opt/anaconda3/lib/python3.8/site-packages (from saxpy) (2.1.11)\n",
      "Requirement already satisfied: pytest in /Users/reverie/opt/anaconda3/lib/python3.8/site-packages (from saxpy) (0.0.0)\n",
      "Requirement already satisfied: pytest-cov in /Users/reverie/opt/anaconda3/lib/python3.8/site-packages (from saxpy) (2.11.1)\n",
      "Requirement already satisfied: requests>=2.7.9 in /Users/reverie/opt/anaconda3/lib/python3.8/site-packages (from codecov->saxpy) (2.24.0)\n",
      "Requirement already satisfied: coverage in /Users/reverie/opt/anaconda3/lib/python3.8/site-packages (from codecov->saxpy) (5.5)\n",
      "Requirement already satisfied: attrs>=17.4.0 in /Users/reverie/opt/anaconda3/lib/python3.8/site-packages (from pytest->saxpy) (20.3.0)\n",
      "Requirement already satisfied: iniconfig in /Users/reverie/opt/anaconda3/lib/python3.8/site-packages (from pytest->saxpy) (1.1.1)\n",
      "Requirement already satisfied: packaging in /Users/reverie/opt/anaconda3/lib/python3.8/site-packages (from pytest->saxpy) (20.4)\n",
      "Requirement already satisfied: pluggy<1.0,>=0.12 in /Users/reverie/opt/anaconda3/lib/python3.8/site-packages (from pytest->saxpy) (0.13.1)\n",
      "Requirement already satisfied: py>=1.8.2 in /Users/reverie/opt/anaconda3/lib/python3.8/site-packages (from pytest->saxpy) (1.9.0)\n",
      "Requirement already satisfied: toml in /Users/reverie/opt/anaconda3/lib/python3.8/site-packages (from pytest->saxpy) (0.10.1)\n",
      "Requirement already satisfied: certifi>=2017.4.17 in /Users/reverie/opt/anaconda3/lib/python3.8/site-packages (from requests>=2.7.9->codecov->saxpy) (2020.6.20)\n",
      "Requirement already satisfied: idna<3,>=2.5 in /Users/reverie/opt/anaconda3/lib/python3.8/site-packages (from requests>=2.7.9->codecov->saxpy) (2.10)\n",
      "Requirement already satisfied: chardet<4,>=3.0.2 in /Users/reverie/opt/anaconda3/lib/python3.8/site-packages (from requests>=2.7.9->codecov->saxpy) (3.0.4)\n",
      "Requirement already satisfied: urllib3!=1.25.0,!=1.25.1,<1.26,>=1.21.1 in /Users/reverie/opt/anaconda3/lib/python3.8/site-packages (from requests>=2.7.9->codecov->saxpy) (1.25.11)\n",
      "Requirement already satisfied: pyparsing>=2.0.2 in /Users/reverie/opt/anaconda3/lib/python3.8/site-packages (from packaging->pytest->saxpy) (2.4.7)\n",
      "Requirement already satisfied: six in /Users/reverie/opt/anaconda3/lib/python3.8/site-packages (from packaging->pytest->saxpy) (1.15.0)\n",
      "Requirement already satisfied: playsound in /Users/reverie/opt/anaconda3/lib/python3.8/site-packages (1.2.2)\n",
      "Requirement already satisfied: simpleaudio in /Users/reverie/opt/anaconda3/lib/python3.8/site-packages (1.0.4)\n"
     ]
    }
   ],
   "source": [
    "#Gian Carlo Replicating the code\n",
    "#Installments\n",
    "!pip install saxpy\n",
    "!pip install playsound\n",
    "!pip install simpleaudio \n",
    "\n",
    "# Importing librarys and packages\n",
    "\n",
    "import numpy as np\n",
    "\n",
    "\n",
    "\n",
    "from saxpy.znorm import znorm\n",
    "from saxpy.paa   import paa\n",
    "from saxpy.sax   import ts_to_string\n",
    "from saxpy.alphabet import cuts_for_asize\n",
    "from saxpy.sax   import sax_via_window\n",
    "\n",
    "\n",
    "import matplotlib.pyplot as plt\n",
    "\n",
    "import simpleaudio as sa\n",
    "\n",
    "\n",
    "import csv\n",
    "import pandas as pd"
   ]
  },
  {
   "cell_type": "markdown",
   "metadata": {},
   "source": [
    "## Importing Motion Data File"
   ]
  },
  {
   "cell_type": "code",
   "execution_count": 2,
   "metadata": {},
   "outputs": [
    {
     "data": {
      "text/plain": [
       "0     5000\n",
       "1     5000\n",
       "2     5000\n",
       "3     5000\n",
       "4     5000\n",
       "      ... \n",
       "73    1014\n",
       "74    1014\n",
       "75    1014\n",
       "76    1014\n",
       "77    1014\n",
       "Name: Sonar 3, Length: 78, dtype: int64"
      ]
     },
     "execution_count": 2,
     "metadata": {},
     "output_type": "execute_result"
    }
   ],
   "source": [
    "### Importing a motion data file\n",
    "# \"header = None\" b/c the file has no headers\n",
    "\n",
    "data1= pd.read_csv(\"CLASS_WALK_l2r/l2rTrial1.tsv\", sep = '\\t', header = 0)\n",
    "\n",
    "\n",
    "# View a column of the file\n",
    "data1[\"Sonar 3\"]\n"
   ]
  },
  {
   "cell_type": "markdown",
   "metadata": {},
   "source": [
    "We can isolate the three desired sensors: 0, 3, and 6, which correspond to Left, Middle, and Right respectively. \n"
   ]
  },
  {
   "cell_type": "code",
   "execution_count": 14,
   "metadata": {},
   "outputs": [
    {
     "data": {
      "text/plain": [
       "0     5000\n",
       "1     5000\n",
       "2     5000\n",
       "3     5000\n",
       "4     5000\n",
       "      ... \n",
       "73    1014\n",
       "74    1014\n",
       "75    1014\n",
       "76    1014\n",
       "77    1014\n",
       "Name: Sonar 3, Length: 78, dtype: int64"
      ]
     },
     "execution_count": 14,
     "metadata": {},
     "output_type": "execute_result"
    }
   ],
   "source": [
    "# Isolate and rename the time series for left, middle, and right sensors\n",
    "left = data1[\"Sonar 0\"]\n",
    "middle = data1[\"Sonar 3\"]\n",
    "right = data1[\"Sonar 6\"]\n",
    "\n",
    "# Check that the data copied correctly\n",
    "middle"
   ]
  },
  {
   "cell_type": "code",
   "execution_count": 10,
   "metadata": {},
   "outputs": [],
   "source": [
    "# Normalize the data.\n",
    "left = znorm(left)\n",
    "middle = znorm(middle)\n",
    "right = znorm(right)\n"
   ]
  },
  {
   "cell_type": "markdown",
   "metadata": {},
   "source": [
    "## Graphing all three sensors\n",
    "\n"
   ]
  },
  {
   "cell_type": "code",
   "execution_count": null,
   "metadata": {},
   "outputs": [],
   "source": []
  },
  {
   "cell_type": "code",
   "execution_count": 4,
   "metadata": {},
   "outputs": [
    {
     "data": {
      "image/png": "[encoded data removed]",
      "text/plain": [
       "<Figure size 432x288 with 1 Axes>"
      ]
     },
     "metadata": {
      "needs_background": "light"
     },
     "output_type": "display_data"
    }
   ],
   "source": [
    "# Plot the data on a graph (using default pyplot settings) just as a basic visualization\n",
    "\n",
    "plt.plot(left, label=\"Left\")\n",
    "plt.plot(middle, label=\"Middle\")\n",
    "plt.plot(right, label=\"Right\")\n",
    "plt.title(\"Left-to-right motion data from three sensors\")\n",
    "plt.xlabel(\"Time (deciseconds)\")\n",
    "plt.ylabel(\"Sensor reading\")\n",
    "plt.legend()\n",
    "plt.show()"
   ]
  },
  {
   "cell_type": "markdown",
   "metadata": {},
   "source": [
    "# Making a \"melody\" function\n",
    "Let's define a function for our generated melody, so that we don't have to write it out every time."
   ]
  },
  {
   "cell_type": "code",
   "execution_count": 21,
   "metadata": {},
   "outputs": [],
   "source": [
    "def melody(sax, black_box):\n",
    "    if not black_box:print(\"Starting playback...\")\n",
    "        \n",
    "    # Iterate through the characters\n",
    "    for char in sax:\n",
    "            # Print the current letter\n",
    "            if not black_box: print(char, end=\"\")\n",
    "                \n",
    "                \n",
    "             # Test for each character and play the correct note\n",
    "            if char == \"a\":\n",
    "                sound = sa.WaveObject.from_wave_file(\"soundFiles/a_low.wav\").play()\n",
    "            elif char == \"b\":\n",
    "                sound = sa.WaveObject.from_wave_file(\"soundFiles/b.wav\").play()\n",
    "            elif char == \"c\":\n",
    "                sound = sa.WaveObject.from_wave_file(\"soundFiles/db.wav\").play()\n",
    "            elif char == \"d\":\n",
    "                sound = sa.WaveObject.from_wave_file(\"soundFiles/d.wav\").play()\n",
    "            elif char == \"e\":\n",
    "                sound = sa.WaveObject.from_wave_file(\"soundFiles/e.wav\").play()\n",
    "            elif char == \"f\":\n",
    "                sound = sa.WaveObject.from_wave_file(\"soundFiles/gb.wav\").play()\n",
    "            elif char == \"g\":\n",
    "                sound = sa.WaveObject.from_wave_file(\"soundFiles/ab.wav\").play()\n",
    "#             elif char == \"h\": # doesn't ensure \"sound\" is defined\n",
    "            else:\n",
    "                sound = sa.WaveObject.from_wave_file(\"soundFiles/a.wav\").play()\n",
    "            # Wait for each sound to finish before playing next one\n",
    "            sound.wait_done()\n",
    "    \n",
    "    if not black_box: print(\"\\nFinished!\")"
   ]
  },
  {
   "cell_type": "markdown",
   "metadata": {},
   "source": [
    "# Comparing different patients¶\n",
    "The PhysioNet contest from which these data are taken (the \"training\" dataset) involved, as the title would suggest, \"Predicting Acute Hypotensive Episodes.\" As such, the training data includes patients with and without periods of acute hypotension, as well as those who experienced hypotension before or after the data were collected. There are a wide variety of data. Hopefully we can see -- and hear -- as much.\n",
    "# Function to do everything in one step\n",
    "Below I will define a function for running the whole procedure (read in data --> znorm --> PAA --> SAX) on any given data file, and then another which adds the melody. (It's useful to be able to call your sound up on cue.)"
   ]
  },
  {
   "cell_type": "code",
   "execution_count": 45,
   "metadata": {},
   "outputs": [],
   "source": [
    "# Take one of the data files and return the sax string\n",
    "# - data_file: path to the .dat file from MIMIC II\n",
    "# - black_box: FALSE if you want graphs and feedback displayed;\n",
    "#              TRUE if, well, you don't.\n",
    "\n",
    "def saxify(data_file, black_box):\n",
    "    # Read in the data file.\n",
    "    data = pd.read_csv(data_file, sep = '\\t', header = 0)\n",
    "    \n",
    "    # Give the left, middle, and right sensors their names.\n",
    "    left = data[\"Sonar 0\"]\n",
    "    middle = data[\"Sonar 3\"]\n",
    "    right = data[\"Sonar 6\"]\n",
    "\n",
    "    # Graph the raw data (if desired)\n",
    "    if not black_box:\n",
    "        plt.plot(left, label=\"Left\")\n",
    "        plt.plot(middle, label=\"Middle\")\n",
    "        plt.plot(right, label=\"Right\")\n",
    "        plt.title(\"Motion data—3 sensors\\n{}\".format(data_file))\n",
    "        plt.xlabel(\"Time (deciseconds)\")\n",
    "        plt.ylabel(\"Sensor reading\")\n",
    "        plt.legend()\n",
    "        plt.show()\n",
    "        \n",
    "    # Normalize the data\n",
    "    left = znorm(left)\n",
    "    middle = znorm(middle)\n",
    "    right = znorm(right)\n",
    "    \n",
    "    # Apply PAA\n",
    "    # \"Real time\" playback = length/5 (time series in 0.1s, notes ~0.5s long)\n",
    "    paa_size = len(data) // 5\n",
    "    if not black_box: print(\"PAA size =\", paa_size)\n",
    "    paa_left = paa(left, paa_size)\n",
    "    paa_middle = paa(middle, paa_size)\n",
    "    paa_right = paa(right, paa_size)\n",
    "        \n",
    "    # Create SAX string\n",
    "    sax_left = ts_to_string(paa_left, cuts_for_asize(8))\n",
    "    sax_middle = ts_to_string(paa_middle, cuts_for_asize(8))\n",
    "    sax_right = ts_to_string(paa_right, cuts_for_asize(8))\n",
    "    # .. and display if desired\n",
    "    if not black_box:\n",
    "        print(\"SAX strings:\", \"\\n  Left: \", sax_left, \"\\n  Middle: \", sax_middle, \"\\n  Right: \", sax_right)\n",
    "        \n",
    "    # Return a tuple of the 3 SAX strings\n",
    "    return sax_left, sax_middle, sax_right\n",
    "    \n",
    "\n",
    "    # currently broken -- won't take a tuple result from saxify\n",
    "# # Just a function that calls saxify() and melody() in sequence.\n",
    "# def sonify(data_file, black_box):\n",
    "#     melody(saxify(data_file, black_box), black_box)"
   ]
  },
  {
   "cell_type": "markdown",
   "metadata": {},
   "source": [
    "# Demo for presentation\n",
    "Here we call saxify() and melody() separately."
   ]
  },
  {
   "cell_type": "code",
   "execution_count": 16,
   "metadata": {},
   "outputs": [
    {
     "data": {
      "image/png": "[encoded data removed]",
      "text/plain": [
       "<Figure size 432x288 with 1 Axes>"
      ]
     },
     "metadata": {
      "needs_background": "light"
     },
     "output_type": "display_data"
    },
    {
     "name": "stdout",
     "output_type": "stream",
     "text": [
      "PAA size = 15\n",
      "SAX strings: \n",
      "  Left:  hhhcccdcccccccc \n",
      "  Middle:  hhfcccccccccccc \n",
      "  Right:  hhhhhhhhhhhhhhh\n"
     ]
    }
   ],
   "source": [
    "sax_1 = saxify(\"CLASS_WALK_l2r/l2rTrial1.tsv\", black_box = False)"
   ]
  },
  {
   "cell_type": "code",
   "execution_count": 34,
   "metadata": {},
   "outputs": [
    {
     "name": "stdout",
     "output_type": "stream",
     "text": [
      "Starting playback...\n",
      "hhhcccdcccccccc\n",
      "Finished!\n"
     ]
    }
   ],
   "source": [
    "melody(sax_1[0], False)"
   ]
  },
  {
   "cell_type": "code",
   "execution_count": 35,
   "metadata": {},
   "outputs": [
    {
     "name": "stdout",
     "output_type": "stream",
     "text": [
      "Starting playback...\n",
      "hhfcccccccccccc\n",
      "Finished!\n"
     ]
    }
   ],
   "source": [
    "melody(sax_1[1], False)"
   ]
  },
  {
   "cell_type": "code",
   "execution_count": 36,
   "metadata": {},
   "outputs": [
    {
     "name": "stdout",
     "output_type": "stream",
     "text": [
      "Starting playback...\n",
      "hhhhhhhhhhhhhhh\n",
      "Finished!\n"
     ]
    }
   ],
   "source": [
    "melody(sax_1[2], False)"
   ]
  },
  {
   "cell_type": "markdown",
   "metadata": {},
   "source": [
    "## Testing a RTL file\n",
    "\n",
    "Let's see if it works with one of the right to left files, too.  (I used a random number picker to select which file.)"
   ]
  },
  {
   "cell_type": "code",
   "execution_count": 46,
   "metadata": {},
   "outputs": [
    {
     "data": {
      "image/png": "[encoded data removed]",
      "text/plain": [
       "<Figure size 432x288 with 1 Axes>"
      ]
     },
     "metadata": {
      "needs_background": "light"
     },
     "output_type": "display_data"
    },
    {
     "name": "stdout",
     "output_type": "stream",
     "text": [
      "PAA size = 16\n",
      "SAX strings: \n",
      "  Left:  hhgccccccccccccc \n",
      "  Middle:  hhdccccccbcccccc \n",
      "  Right:  eeeeeeeaaeeeeeee\n"
     ]
    }
   ],
   "source": [
    "sax_2 = saxify(\"CLASS_WALK_r2l/r2lTrial15.tsv\", black_box = False)"
   ]
  },
  {
   "cell_type": "code",
   "execution_count": 40,
   "metadata": {},
   "outputs": [
    {
     "name": "stdout",
     "output_type": "stream",
     "text": [
      "Starting playback...\n",
      "hhgccccccccccccc\n",
      "Finished!\n"
     ]
    }
   ],
   "source": [
    "melody(sax_2[0], black_box = False)"
   ]
  },
  {
   "cell_type": "code",
   "execution_count": 41,
   "metadata": {},
   "outputs": [
    {
     "name": "stdout",
     "output_type": "stream",
     "text": [
      "Starting playback...\n",
      "hhdccccccbcccccc\n",
      "Finished!\n"
     ]
    }
   ],
   "source": [
    "melody(sax_2[1], black_box = False)"
   ]
  },
  {
   "cell_type": "code",
   "execution_count": 44,
   "metadata": {},
   "outputs": [
    {
     "name": "stdout",
     "output_type": "stream",
     "text": [
      "Starting playback...\n",
      "eeeeeeeaaeeeeeee\n",
      "Finished!\n"
     ]
    }
   ],
   "source": [
    "melody(sax_2[2], black_box = False)"
   ]
  },
  {
   "cell_type": "code",
   "execution_count": null,
   "metadata": {},
   "outputs": [],
   "source": []
  },
  {
   "cell_type": "code",
   "execution_count": null,
   "metadata": {},
   "outputs": [],
   "source": []
  }
 ],
 "metadata": {
  "kernelspec": {
   "display_name": "Python 3",
   "language": "python",
   "name": "python3"
  },
  "language_info": {
   "codemirror_mode": {
    "name": "ipython",
    "version": 3
   },
   "file_extension": ".py",
   "mimetype": "text/x-python",
   "name": "python",
   "nbconvert_exporter": "python",
   "pygments_lexer": "ipython3",
   "version": "3.8.5"
  }
 },
 "nbformat": 4,
 "nbformat_minor": 4
}
